{
 "cells": [
  {
   "cell_type": "markdown",
   "metadata": {},
   "source": [
    "Solving the initial value problem $\\begin{cases}\n",
    "                                        x'(t) = -4x(t) + 1\\\\\n",
    "                                        x(0) = 0.5\n",
    "                                    \\end{cases}\n",
    "                                  $\n",
    "by using the predictor-corrector scheme with the Adams-Bashford-Moulton method in conjunction with the Runge-Kutta method given by the tableau to generate the first several steps"
   ]
  },
  {
   "cell_type": "markdown",
   "metadata": {},
   "source": [
    "The Runge-Kutta method is given by the following: <br />\n",
    "$x(t+h) = x(t) + h(\\frac{1}{6}K_1 + \\frac{1}{3}K_2 + \\frac{1}{3}K_3 + \\frac{1}{6}K_4)$<br />\n",
    "$K_1 = f(t, x)$<br />\n",
    "$K_2 = f(t + \\frac{1}{2}h, x + \\frac{h}{2}K_1)$<br />\n",
    "$K_3 = f(t + \\frac{1}{2}h, x + \\frac{h}{2}K_2)$<br />\n",
    "$K_4 = f(t + h, x + hK_3)$\n"
   ]
  },
  {
   "cell_type": "markdown",
   "metadata": {},
   "source": [
    "Use step sizes $h= 0.5, 0.1, 0.01, 0.001$"
   ]
  },
  {
   "cell_type": "code",
   "execution_count": null,
   "metadata": {},
   "outputs": [],
   "source": [
    "#Since we are plotting the various step_sizes, return array with values\n",
    "def ODE(lower_lim, upper_lim, h):\n",
    "    "
   ]
  },
  {
   "cell_type": "markdown",
   "metadata": {},
   "source": [
    "Plotting numerical solutions and exact solution on $0\\leq t \\leq 5$"
   ]
  },
  {
   "cell_type": "code",
   "execution_count": null,
   "metadata": {},
   "outputs": [],
   "source": []
  }
 ],
 "metadata": {
  "kernelspec": {
   "display_name": "Python 3",
   "language": "python",
   "name": "python3"
  },
  "language_info": {
   "codemirror_mode": {
    "name": "ipython",
    "version": 3
   },
   "file_extension": ".py",
   "mimetype": "text/x-python",
   "name": "python",
   "nbconvert_exporter": "python",
   "pygments_lexer": "ipython3",
   "version": "3.7.4"
  }
 },
 "nbformat": 4,
 "nbformat_minor": 2
}
