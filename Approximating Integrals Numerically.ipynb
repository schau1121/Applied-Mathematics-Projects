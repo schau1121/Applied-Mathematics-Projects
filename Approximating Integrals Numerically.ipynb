{
 "cells": [
  {
   "cell_type": "markdown",
   "metadata": {},
   "source": [
    "## Approximate $\\int_{0}^{1} xe^{-x}dx$ with $h = 0.05 \\Rightarrow n = 20$"
   ]
  },
  {
   "cell_type": "markdown",
   "metadata": {},
   "source": [
    "### Approximations from various methods"
   ]
  },
  {
   "cell_type": "markdown",
   "metadata": {},
   "source": [
    "Composite trapezoid rule"
   ]
  },
  {
   "cell_type": "code",
   "execution_count": 1,
   "metadata": {},
   "outputs": [
    {
     "name": "stdout",
     "output_type": "stream",
     "text": [
      "T = 0.2640328039768298\n"
     ]
    }
   ],
   "source": [
    "import numpy as np\n",
    "\n",
    "def f(x):\n",
    "    #f(x)=xe^(-x)\n",
    "    return x*np.exp(-x)\n",
    "\n",
    "def trapezoid(lower_lim, upper_lim, n):\n",
    "    #Trapezoid rule with n=20\n",
    "    a = lower_lim\n",
    "    b = upper_lim\n",
    "    h = (b - a) / n\n",
    "    T = (f(a) + f(b)) / 2\n",
    "    x = np.linspace(a, b, n+1)\n",
    "\n",
    "    for i in range(1, 20):\n",
    "        T += f(x[i])\n",
    "\n",
    "    T *= h\n",
    "    return T\n",
    "\n",
    "#driver code\n",
    "T = trapezoid(0,1,20)\n",
    "print(\"T = {}\".format(T))"
   ]
  },
  {
   "cell_type": "markdown",
   "metadata": {},
   "source": [
    "The composite trapezoid rule approximation with 21 points and $h=0.05$ is $T=0.2640328040$ and the actual value of the integral is $I=\\int_{0}^{1}xe^{-x}=1-2e^{-1}=0.2642411177$ Thus, the error is $|I-T|=2.083137\\times10^{-4}$"
   ]
  },
  {
   "cell_type": "markdown",
   "metadata": {},
   "source": [
    "Composite Simpson's 1/3 rule"
   ]
  },
  {
   "cell_type": "code",
   "execution_count": 2,
   "metadata": {},
   "outputs": [
    {
     "name": "stdout",
     "output_type": "stream",
     "text": [
      "S = 0.2642410390740825\n"
     ]
    }
   ],
   "source": [
    "def simpsons(lower_lim, upper_lim, n):\n",
    "    #Composite Simpson's 1/3rd rule\n",
    "    a = lower_lim\n",
    "    b = upper_lim\n",
    "    h = (b - a) / n\n",
    "    x = np.linspace(a, b, n + 1)\n",
    "    fx = list()\n",
    "    i = 0\n",
    "    while i <= n:\n",
    "        fx.append(f(x[i]))\n",
    "        i += 1\n",
    "    S = 0\n",
    "    i = 0\n",
    "    while i <= n:\n",
    "        if i == 0 or i == n: #f(a) or f(b)\n",
    "            S += fx[i]\n",
    "        elif i % 2 != 0: #sum_1^(n/2) of f(x_2i-1)/odd indicies\n",
    "            S += 4 * fx[i]\n",
    "        else: #sum_1^((n-2)/2) of f(x_2i)/even indicies\n",
    "            S += 2 * fx[i]\n",
    "        i += 1\n",
    "    S = S * (h / 3)\n",
    "    return S\n",
    "\n",
    "#driver code\n",
    "S = simpsons(0, 1, 20)\n",
    "print(\"S = {}\".format(S))"
   ]
  },
  {
   "cell_type": "markdown",
   "metadata": {},
   "source": [
    "The composite Simpson's rule approximation with 21 points and $h = 0.05$ is $S = 0.2642410391$ and the actual value of the integral is $I=\\int_{0}^{1}xe^{-x}=1-2e^{-1}=0.264241117$ Thus, the error is $|I-S|=7.86\\times10^{-8}$"
   ]
  },
  {
   "cell_type": "markdown",
   "metadata": {},
   "source": [
    "Composite quadrature rule with two points"
   ]
  },
  {
   "cell_type": "code",
   "execution_count": 4,
   "metadata": {
    "scrolled": true
   },
   "outputs": [
    {
     "name": "stdout",
     "output_type": "stream",
     "text": [
      "G = 0.26424112093252206\n"
     ]
    }
   ],
   "source": [
    "def gaussian_quadrature(lower_lim, upper_lim, n):\n",
    "    a = lower_lim\n",
    "    b = upper_lim\n",
    "    n1 = -(np.sqrt(1/3))\n",
    "    n2 = np.sqrt(1/3)\n",
    "    x = np.linspace(a, b, n + 1)\n",
    "    G = 0\n",
    "    for i in range(1, n + 1):\n",
    "        coef = (x[i] - x[i-1]) / 2\n",
    "        t1 = (coef * n1) + ((x[i] + x[i-1]) / 2)\n",
    "        t2 = (coef * n2) + ((x[i] + x[i-1]) / 2)\n",
    "        G += coef * (f(t1) + f(t2))\n",
    "    return G\n",
    "\n",
    "#driver code\n",
    "G = gaussian_quadrature(0, 1, 20)\n",
    "print(\"G = {}\".format(G))"
   ]
  },
  {
   "cell_type": "markdown",
   "metadata": {},
   "source": [
    "The composite Gaussian quadrature rule with two points and $h = 0.05$ is $G=0.2642411209$ and the actual value of the integral is $I=\\int_{0}^{1}xe^{-x}=1-2e^{-1}=0.264241117$ Thus, the error is $|I-G|=3.9\\times10^{-9}$"
   ]
  },
  {
   "cell_type": "markdown",
   "metadata": {},
   "source": [
    "### Results"
   ]
  },
  {
   "cell_type": "markdown",
   "metadata": {},
   "source": [
    "From the approximations above, we can conclude that the **composite Gaussian quadrature rule** gives us the best estimate, and the composite trapezoid rule gives us the worst estimate. We can see this through the marginally larger error term given by the trapezoid method compared to the Gaussian quadrature method."
   ]
  },
  {
   "cell_type": "code",
   "execution_count": null,
   "metadata": {},
   "outputs": [],
   "source": []
  }
 ],
 "metadata": {
  "kernelspec": {
   "display_name": "Python 3",
   "language": "python",
   "name": "python3"
  },
  "language_info": {
   "codemirror_mode": {
    "name": "ipython",
    "version": 3
   },
   "file_extension": ".py",
   "mimetype": "text/x-python",
   "name": "python",
   "nbconvert_exporter": "python",
   "pygments_lexer": "ipython3",
   "version": "3.8.5"
  }
 },
 "nbformat": 4,
 "nbformat_minor": 2
}
